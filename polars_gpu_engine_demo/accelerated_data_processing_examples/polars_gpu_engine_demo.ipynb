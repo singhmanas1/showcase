{
  "cells": [
    {
      "cell_type": "markdown",
      "id": "3ee31ce0-49be-4f82-ab61-4d7f830ddca7",
      "metadata": {
        "id": "3ee31ce0-49be-4f82-ab61-4d7f830ddca7"
      },
      "source": [
        "## Intro\n",
        "\n",
        "Polars is a popular single machine DataFrame library powered by an OLAP Query Engine. Beginning in the v1.3 release, Polars can now leverage NVIDIA GPUs for even higher performance through its GPU engine (powered by RAPIDS cuDF).\n",
        "\n",
        "Designed to make processing 10-100+ GBs of data feel interactive with just a single GPU, this new engine is built directly into the Polars Lazy API – just pass <font color=\"#76B900\">**engine=\"gpu\"**</font> to the `collect` operation.\n",
        "\n",
        "The GPU engine fully utilizes the Polars optimizer to ensure efficient execution and minimal memory usage, is compatible with the ecosystem of tools built for Polars, and has graceful CPU fallback for unsupported queries.\n",
        "\n",
        "This notebook is a short introduction to the Polars GPU engine, powered by cuDF."
      ]
    },
    {
      "cell_type": "code",
      "execution_count": 1,
      "id": "06582ce0-5db4-46e6-8ced-1e65f97e54b1",
      "metadata": {
        "id": "06582ce0-5db4-46e6-8ced-1e65f97e54b1",
        "colab": {
          "base_uri": "https://localhost:8080/"
        },
        "outputId": "e1d0d695-f8b4-4df5-bc81-9873edf6dd6f"
      },
      "outputs": [
        {
          "output_type": "stream",
          "name": "stdout",
          "text": [
            "Mon Sep 16 21:55:44 2024       \n",
            "+---------------------------------------------------------------------------------------+\n",
            "| NVIDIA-SMI 535.104.05             Driver Version: 535.104.05   CUDA Version: 12.2     |\n",
            "|-----------------------------------------+----------------------+----------------------+\n",
            "| GPU  Name                 Persistence-M | Bus-Id        Disp.A | Volatile Uncorr. ECC |\n",
            "| Fan  Temp   Perf          Pwr:Usage/Cap |         Memory-Usage | GPU-Util  Compute M. |\n",
            "|                                         |                      |               MIG M. |\n",
            "|=========================================+======================+======================|\n",
            "|   0  Tesla T4                       Off | 00000000:00:04.0 Off |                    0 |\n",
            "| N/A   69C    P8              10W /  70W |      0MiB / 15360MiB |      0%      Default |\n"
          ]
        }
      ],
      "source": [
        "!nvidia-smi | head"
      ]
    },
    {
      "cell_type": "code",
      "execution_count": 2,
      "id": "91244434-bf27-4c54-8e02-deb0215e4c66",
      "metadata": {
        "id": "91244434-bf27-4c54-8e02-deb0215e4c66",
        "colab": {
          "base_uri": "https://localhost:8080/"
        },
        "outputId": "28e69e30-7e58-43b0-b469-02041634a0e5"
      },
      "outputs": [
        {
          "output_type": "stream",
          "name": "stdout",
          "text": [
            "Model name:                           Intel(R) Xeon(R) CPU @ 2.00GHz\n",
            "Model:                                85\n",
            "Socket(s):                            1\n"
          ]
        }
      ],
      "source": [
        "!lscpu | grep -E \"Model|Socket\""
      ]
    },
    {
      "cell_type": "markdown",
      "source": [
        "# Setup"
      ],
      "metadata": {
        "id": "W_-gtW5OFaXw"
      },
      "id": "W_-gtW5OFaXw"
    },
    {
      "cell_type": "markdown",
      "source": [
        "## Installing the Polars GPU Engine\n",
        "\n",
        "Install Polars with GPU Engine by using a feature flag in the standard pip install command  `pip install polars[gpu] --extra-index-url=https://pypi.nvidia.com`."
      ],
      "metadata": {
        "id": "TabS5fiHG0dG"
      },
      "id": "TabS5fiHG0dG"
    },
    {
      "cell_type": "code",
      "source": [
        "!pip install polars[gpu] --extra-index-url=https://pypi.nvidia.com"
      ],
      "metadata": {
        "id": "8KsqSnilHhSX"
      },
      "id": "8KsqSnilHhSX",
      "execution_count": null,
      "outputs": []
    },
    {
      "cell_type": "markdown",
      "source": [
        "# Install Other Important Dependencies\n",
        "To use the built-in data visualization capabilities of Polars, you'll need to install a few additional dependencies. We'll also install pynvml to help us determine which dataset size to use."
      ],
      "metadata": {
        "id": "8TGOPIMD1jWw"
      },
      "id": "8TGOPIMD1jWw"
    },
    {
      "cell_type": "code",
      "source": [
        "!pip install hvplot jupyter_bokeh pynvml holoviews==1.19"
      ],
      "metadata": {
        "id": "ugRxEv0i1iz4"
      },
      "id": "ugRxEv0i1iz4",
      "execution_count": null,
      "outputs": []
    },
    {
      "cell_type": "markdown",
      "id": "420f36d3-b9c6-43b1-bdd7-a18ede3a1330",
      "metadata": {
        "id": "420f36d3-b9c6-43b1-bdd7-a18ede3a1330"
      },
      "source": [
        "## Download the Data\n",
        "\n",
        "We'll be working with a roughly 22GB dataset of [simulated financial transactions from Kaggle](https://www.kaggle.com/datasets/conorsully1/simulated-transactions) by default. If you're running this notebook on Google Colab using the T4 GPU in the Colab free tier, make sure you set `GOOGLE_COLAB=True` below to download a smaller version of this dataset (about 20% of the size) to fit on the relatively weaker CPU and GPU.\n",
        "\n",
        "We're downloading a copy of this dataset from a GCS bucket hosted by NVIDIA to provide faster download speeds. We'll start by downloading the data. This should take about 30 seconds."
      ]
    },
    {
      "cell_type": "code",
      "execution_count": null,
      "id": "cea57483-1979-4715-a5c8-c48bc8f63667",
      "metadata": {
        "id": "cea57483-1979-4715-a5c8-c48bc8f63667"
      },
      "outputs": [],
      "source": [
        "if GOOGLE_COLAB:\n",
        "    !wget https://storage.googleapis.com/rapidsai/polars-demo/transactions-t4-20.parquet -O transactions.parquet\n",
        "else:\n",
        "    !wget https://storage.googleapis.com/rapidsai/polars-demo/transactions.parquet -O transactions.parquet\n",
        "\n",
        "!wget https://storage.googleapis.com/rapidsai/polars-demo/rainfall_data_2010_2020.csv"
      ]
    },
    {
      "cell_type": "markdown",
      "id": "c642c436-05cf-472a-833e-4c8872bdd269",
      "metadata": {
        "id": "c642c436-05cf-472a-833e-4c8872bdd269"
      },
      "source": [
        "## Data License and Terms\n",
        "As this dataset originates from Kaggle, it's governed by a Kaggle dataset-specific license and terms of use.\n",
        "\n",
        "> ### CC0 1.0 Universal\n",
        "> **No Copyright**\n",
        "\n",
        ">The person who associated a work with this deed has dedicated the work to the public domain by waiving all of his or her rights to the work worldwide under copyright law, including all related and neighboring rights, to the extent allowed by law.\n",
        "You can copy, modify, distribute and perform the work, even for commercial purposes, all without asking permission. See Other Information below.\n",
        "\n",
        "> **Other Information**\n",
        "\n",
        ">In no way are the patent or trademark rights of any person affected by CC0, nor are the rights that other persons may have in the work or in how the work is used, such as publicity or privacy rights.\n",
        "Unless expressly stated otherwise, the person who associated a work with this deed makes no warranties about the work, and disclaims liability for all uses of the work, to the fullest extent permitted by applicable law.\n",
        "When using or citing the work, you should not imply endorsement by the author or the affirmer.\n"
      ]
    },
    {
      "cell_type": "markdown",
      "id": "a289485d-a5ed-4ffc-9491-47b3142654b0",
      "metadata": {
        "id": "a289485d-a5ed-4ffc-9491-47b3142654b0"
      },
      "source": [
        "# Install Plotting Dependencies\n",
        "To use the built-in data visualization capabilities of Polars v1.5, you'll need to install a few additional dependencies."
      ]
    },
    {
      "cell_type": "code",
      "execution_count": null,
      "id": "d0ffec33-3f1b-4fa5-8b42-e3b979664a2e",
      "metadata": {
        "id": "d0ffec33-3f1b-4fa5-8b42-e3b979664a2e"
      },
      "outputs": [],
      "source": [
        "!pip install hvplot jupyter_bokeh holoviews==1.19"
      ]
    },
    {
      "cell_type": "markdown",
      "id": "a07de20a-ef6f-40fe-ab00-8a11e9c4f1e3",
      "metadata": {
        "id": "a07de20a-ef6f-40fe-ab00-8a11e9c4f1e3"
      },
      "source": [
        "# Getting Started"
      ]
    },
    {
      "cell_type": "markdown",
      "id": "ea333c53-6402-43d6-b196-91d7e199b315",
      "metadata": {
        "id": "ea333c53-6402-43d6-b196-91d7e199b315"
      },
      "source": [
        "With this dataset, we expect to see some meaningful performance benefits using NVIDIA GPUs for computationally heavy queries and limited benefits for basic queries that are primarily bottlenecked by reading data.\n",
        "\n",
        "To begin, let's use Polars to read the parquet file and look at the schema and first few rows."
      ]
    },
    {
      "cell_type": "code",
      "execution_count": null,
      "id": "eb8364ee-3db7-40ae-80bd-76572c4e41ff",
      "metadata": {
        "id": "eb8364ee-3db7-40ae-80bd-76572c4e41ff",
        "tags": []
      },
      "outputs": [],
      "source": [
        "import polars as pl\n",
        "from polars.testing import assert_frame_equal"
      ]
    },
    {
      "cell_type": "code",
      "source": [
        "pl.__version__ # Make sure the version is `1.5.x`; If not restart the session."
      ],
      "metadata": {
        "id": "isB8fVBAqqDJ"
      },
      "id": "isB8fVBAqqDJ",
      "execution_count": null,
      "outputs": []
    },
    {
      "cell_type": "code",
      "execution_count": null,
      "id": "a04f58fd-3df5-44ee-9a59-67d5c5146b08",
      "metadata": {
        "id": "a04f58fd-3df5-44ee-9a59-67d5c5146b08",
        "tags": []
      },
      "outputs": [],
      "source": [
        "transactions = pl.scan_parquet(\"transactions.parquet\")"
      ]
    },
    {
      "cell_type": "code",
      "execution_count": null,
      "id": "271b5f7f-612d-4ee3-ab6c-8539bc36a8a0",
      "metadata": {
        "id": "271b5f7f-612d-4ee3-ab6c-8539bc36a8a0",
        "tags": []
      },
      "outputs": [],
      "source": [
        "transactions.collect_schema()"
      ]
    },
    {
      "cell_type": "code",
      "execution_count": null,
      "id": "86b44c08-a229-41b3-8e22-59f03eee68fd",
      "metadata": {
        "id": "86b44c08-a229-41b3-8e22-59f03eee68fd"
      },
      "outputs": [],
      "source": [
        "transactions.head(5).collect()"
      ]
    },
    {
      "cell_type": "markdown",
      "id": "fa5da5a9-4ca5-473b-a99f-b5ef4711e70e",
      "metadata": {
        "id": "fa5da5a9-4ca5-473b-a99f-b5ef4711e70e"
      },
      "source": [
        "This dataset has a mix of data types (strings, dates, integers, and floats), some missing values, and it looks like the dates were actually parsed as strings. We'll need to handle that during some of our analysis."
      ]
    },
    {
      "cell_type": "markdown",
      "id": "bfc44e41-191c-4cee-8d99-29a47d5f3b78",
      "metadata": {
        "id": "bfc44e41-191c-4cee-8d99-29a47d5f3b78"
      },
      "source": [
        "# Our first GPU operation: Total aggregate transaction amount"
      ]
    },
    {
      "cell_type": "markdown",
      "id": "551e3232-b815-4b96-8f49-343f6ce07af9",
      "metadata": {
        "id": "551e3232-b815-4b96-8f49-343f6ce07af9"
      },
      "source": [
        "With Polars, to calculate the total spending in of all transactions we simply `sum` the `AMOUNT` column:"
      ]
    },
    {
      "cell_type": "code",
      "execution_count": null,
      "id": "f4960ea1-a1fd-4af9-a08b-2dc6210117af",
      "metadata": {
        "id": "f4960ea1-a1fd-4af9-a08b-2dc6210117af",
        "tags": []
      },
      "outputs": [],
      "source": [
        "transactions.select(pl.col(\"AMOUNT\").sum()).collect()"
      ]
    },
    {
      "cell_type": "markdown",
      "id": "fd4a8068-5e43-4188-b268-1358af945048",
      "metadata": {
        "id": "fd4a8068-5e43-4188-b268-1358af945048"
      },
      "source": [
        "Looks like we're handling a high total transaction volume. Let's run the same query on the GPU.\n",
        "\n",
        "To use a GPU, we just need to tell Polars to use the GPU engine when we call `collect` by passing `engine=\"gpu\"` as a parameter.\n",
        "\n",
        "\n",
        "```python\n",
        "transactions.select(pl.col(\"AMOUNT\").sum()).collect(engine=\"gpu\")\n",
        "```\n",
        "\n",
        "The default configuration is likely the right choice for most workloads, but sometimes we want more control. We can provide more detailed configuration options (such as which device to run on and a variety of other options) by passing a Polars `GPUEngine` object to the `engine` parameter instead.\n",
        "\n",
        "\n",
        "In this notebook, we'll use `pl.GPUEngine`. The default configuration has transparent CPU fallback for unsupported operations, so if we execute an unsupported query we don't get an error. To prove we're running on the GPU, we'll pass a configured engine object that will raise an error if we can't run the query.\n",
        "\n",
        "_If you're running with [jupyterlab-nvdashboard](https://developer.nvidia.com/blog/maximize-gpu-performance-with-near-real-time-usage-stats-on-nvdashboard-v0-10/) you should see the GPU Memory and Utilization tick up._"
      ]
    },
    {
      "cell_type": "code",
      "execution_count": null,
      "id": "308471b8-1086-470c-ac32-95e8af55fc9a",
      "metadata": {
        "id": "308471b8-1086-470c-ac32-95e8af55fc9a"
      },
      "outputs": [],
      "source": [
        "gpu_engine = pl.GPUEngine(\n",
        "    device=0, # This is the default\n",
        "    raise_on_fail=True, # Fail loudly if we can't run on the GPU.\n",
        ")"
      ]
    },
    {
      "cell_type": "markdown",
      "id": "9b96dc10-65b0-4399-a09e-bf6e0c94438c",
      "metadata": {
        "id": "9b96dc10-65b0-4399-a09e-bf6e0c94438c"
      },
      "source": [
        "The very first collection on the GPU will take a couple of seconds. The GPU engine is lazy-loaded so that even if the necessary packages are installed, Polars' fast import times are not affected. Consequently, when we trigger GPU execution for the first time, we load a number of additional packages, and initialize GPU-specific data structures and contexts."
      ]
    },
    {
      "cell_type": "code",
      "execution_count": null,
      "id": "986c74e0-94b7-48e4-9921-fb2a17a252f5",
      "metadata": {
        "id": "986c74e0-94b7-48e4-9921-fb2a17a252f5"
      },
      "outputs": [],
      "source": [
        "transactions.select(pl.col(\"AMOUNT\").sum()).collect(engine=gpu_engine)"
      ]
    },
    {
      "cell_type": "markdown",
      "id": "e87175dd-e11c-4146-92ae-4afd3417071b",
      "metadata": {
        "id": "e87175dd-e11c-4146-92ae-4afd3417071b"
      },
      "source": [
        "We probably don't need a GPU for such a simple operation on this dataset. But when we start doing more complex analysis, the high-bandwidth memory and compute power of GPUs will make things much more interactive."
      ]
    },
    {
      "cell_type": "markdown",
      "id": "30466c12-ab87-4800-9bbb-5207197bb444",
      "metadata": {
        "id": "30466c12-ab87-4800-9bbb-5207197bb444"
      },
      "source": [
        "# More Complex Analysis"
      ]
    },
    {
      "cell_type": "markdown",
      "id": "c715ceee-36ea-4b0f-a826-882afaddf23c",
      "metadata": {
        "id": "c715ceee-36ea-4b0f-a826-882afaddf23c"
      },
      "source": [
        "While the data is synthetic, it's representative of the kinds of datasets that come up in financial services, retail/e-commerce, consumer internet, and other industries.\n",
        "\n",
        "With this data, we can see how using GPU-accelerated Polars provides a significant productivity boosts by exploring common business questions like:\n",
        "\n",
        "1. Which customers have the largest total transctions?\n",
        "2. What's the per-month transaction amount for each spending category over time?\n",
        "3. How does weather effect the transactions for each category?\n",
        "\n",
        "Because this data is synthentic, the results won't be meaningful in terms of business conclusions. Rather, we are motivating _why_ using this GPU engine is useful in terms of perfomance and cost reduction. We'll prove that the CPU and GPU engine get the same results in the first example, but as we move throughout the notebook we'll take this for granted and focus on CPU and GPU timings.\n",
        "\n",
        "Let's start with our first question."
      ]
    },
    {
      "cell_type": "markdown",
      "id": "d0ff0679-e562-437c-b5e8-882c88e04393",
      "metadata": {
        "id": "d0ff0679-e562-437c-b5e8-882c88e04393"
      },
      "source": [
        "## Which customers have the largest total transactions?"
      ]
    },
    {
      "cell_type": "code",
      "execution_count": null,
      "id": "7ac30d66-a58b-4b72-83d6-99c0646b9e3c",
      "metadata": {
        "id": "7ac30d66-a58b-4b72-83d6-99c0646b9e3c"
      },
      "outputs": [],
      "source": [
        "%%time\n",
        "\n",
        "res_cpu = (\n",
        "    transactions\n",
        "    .group_by(\"CUST_ID\")\n",
        "    .agg(pl.col(\"AMOUNT\").sum())\n",
        "    .sort(by=\"AMOUNT\", descending=True)\n",
        "    .head()\n",
        "    .collect()\n",
        ")\n",
        "res_cpu"
      ]
    },
    {
      "cell_type": "code",
      "execution_count": null,
      "id": "3c67acfc-531f-49a2-8485-b665d33468a7",
      "metadata": {
        "id": "3c67acfc-531f-49a2-8485-b665d33468a7"
      },
      "outputs": [],
      "source": [
        "%%time\n",
        "\n",
        "res_gpu = (\n",
        "    transactions\n",
        "    .group_by(\"CUST_ID\")\n",
        "    .agg(pl.col(\"AMOUNT\").sum())\n",
        "    .sort(by=\"AMOUNT\", descending=True)\n",
        "    .head()\n",
        "    .collect(engine=gpu_engine)\n",
        ")\n",
        "res_gpu"
      ]
    },
    {
      "cell_type": "code",
      "execution_count": null,
      "id": "03c876f1-495b-4cf9-ad4c-0a16ed53ce32",
      "metadata": {
        "id": "03c876f1-495b-4cf9-ad4c-0a16ed53ce32"
      },
      "outputs": [],
      "source": [
        "assert_frame_equal(res_cpu, res_gpu)"
      ]
    },
    {
      "cell_type": "markdown",
      "id": "3ec2e276-6ed2-47f2-b968-85586896a854",
      "metadata": {
        "id": "3ec2e276-6ed2-47f2-b968-85586896a854"
      },
      "source": [
        "Great! We see a nice performance gain when using the GPU engine and we've confirmed the results are equal."
      ]
    },
    {
      "cell_type": "markdown",
      "id": "4acabf65-ee3f-4e88-9d05-206c776bcb3d",
      "metadata": {
        "id": "4acabf65-ee3f-4e88-9d05-206c776bcb3d"
      },
      "source": [
        "In addition to the Dataframe interface, Polars also has an SQL interface. We can also use this with the GPU engine, since Polars translates both the DataFrame and SQL interfaces into a query execution plan."
      ]
    },
    {
      "cell_type": "code",
      "execution_count": null,
      "id": "5b9a25d0-f777-4bb9-9c74-e15690675938",
      "metadata": {
        "id": "5b9a25d0-f777-4bb9-9c74-e15690675938"
      },
      "outputs": [],
      "source": [
        "query = \"\"\"\n",
        "SELECT CUST_ID, SUM(AMOUNT) as sum_amt\n",
        "FROM transactions\n",
        "GROUP BY CUST_ID\n",
        "ORDER BY sum_amt desc\n",
        "LIMIT 5\n",
        "\"\"\"\n",
        "\n",
        "%time pl.sql(query).collect()\n",
        "%time pl.sql(query).collect(engine=gpu_engine)"
      ]
    },
    {
      "cell_type": "markdown",
      "id": "27c9efa0-1c69-4039-8a7b-7a55cb1ecf78",
      "metadata": {
        "id": "27c9efa0-1c69-4039-8a7b-7a55cb1ecf78"
      },
      "source": [
        "## Which customers have the largest single transaction?\n",
        "\n",
        "Customer `CP2KXQSX9I` had the largest total transactions over time (on the full dataset), but they might not have the largest single transaction. Let's find the top customers by single transaction amount."
      ]
    },
    {
      "cell_type": "code",
      "execution_count": null,
      "id": "b26080e3-9b35-45cc-8a7e-c78926467ae8",
      "metadata": {
        "id": "b26080e3-9b35-45cc-8a7e-c78926467ae8"
      },
      "outputs": [],
      "source": [
        "%%time\n",
        "\n",
        "(\n",
        "    transactions\n",
        "    .group_by(\"CUST_ID\")\n",
        "    .agg(pl.col(\"AMOUNT\").max().alias(\"max_amount\"))\n",
        "    .sort(by=\"max_amount\", descending=True)\n",
        "    .head()\n",
        "    .collect()\n",
        ")"
      ]
    },
    {
      "cell_type": "code",
      "execution_count": null,
      "id": "c696b693-fb50-4336-b06e-ca137ffb8897",
      "metadata": {
        "id": "c696b693-fb50-4336-b06e-ca137ffb8897"
      },
      "outputs": [],
      "source": [
        "%%time\n",
        "\n",
        "(\n",
        "    transactions\n",
        "    .group_by(\"CUST_ID\")\n",
        "    .agg(pl.col(\"AMOUNT\").max().alias(\"max_amount\"))\n",
        "    .sort(by=\"max_amount\", descending=True)\n",
        "    .head()\n",
        "    .collect(engine=gpu_engine)\n",
        ")"
      ]
    },
    {
      "cell_type": "markdown",
      "id": "7080def6-d4e5-408c-8c8b-83a0895b0c3b",
      "metadata": {
        "id": "7080def6-d4e5-408c-8c8b-83a0895b0c3b"
      },
      "source": [
        "Again, we see a nice speedup using the GPU engine."
      ]
    },
    {
      "cell_type": "markdown",
      "id": "d0f33dad-b5f3-446d-a63e-95d907ab1cc8",
      "metadata": {
        "id": "d0f33dad-b5f3-446d-a63e-95d907ab1cc8"
      },
      "source": [
        "## Investigating a specific customer\n",
        "\n",
        "Let's explore the transactions of a single customer now. What was `CIP0I11MG2`'s largest transaction?"
      ]
    },
    {
      "cell_type": "code",
      "execution_count": null,
      "id": "048e08be-5e30-41fa-a344-e2eb46e0085c",
      "metadata": {
        "id": "048e08be-5e30-41fa-a344-e2eb46e0085c"
      },
      "outputs": [],
      "source": [
        "%%time\n",
        "\n",
        "(\n",
        "    transactions\n",
        "    .filter(pl.col(\"CUST_ID\") == \"CIP0I11MG2\")\n",
        "    .select(pl.col(\"AMOUNT\").max())\n",
        "    .collect()\n",
        ")"
      ]
    },
    {
      "cell_type": "code",
      "execution_count": null,
      "id": "95a01a3d-f400-4439-b30b-09860439058a",
      "metadata": {
        "id": "95a01a3d-f400-4439-b30b-09860439058a"
      },
      "outputs": [],
      "source": [
        "%%time\n",
        "\n",
        "(\n",
        "    transactions\n",
        "    .filter(pl.col(\"CUST_ID\") == \"CIP0I11MG2\")\n",
        "    .select(pl.col(\"AMOUNT\").max())\n",
        "    .collect(engine=gpu_engine)\n",
        ")"
      ]
    },
    {
      "cell_type": "markdown",
      "id": "fc6b01b0-13ec-4dcc-bd8e-26f193a54d21",
      "metadata": {
        "id": "fc6b01b0-13ec-4dcc-bd8e-26f193a54d21"
      },
      "source": [
        "### Sidebar: Why was performance using the CPU and GPU engines similar for this query?"
      ]
    },
    {
      "cell_type": "markdown",
      "id": "b1a705fe-bb1e-440e-ad5a-829e68971298",
      "metadata": {
        "id": "b1a705fe-bb1e-440e-ad5a-829e68971298"
      },
      "source": [
        "What we've seen so far is that, for many common queries, we see significant performance increases when we use the GPU. But for this last one, things were more similar.\n",
        "\n",
        "Using Polars on a GPU isn't **always** a surefire winner in terms of speed compared to Polars on a CPU. For simple queries that aren't computationally heavy, like the last query, we're often limited by the speed that we can read results from disk.\n",
        "\n",
        "Let's confirm this by profiling."
      ]
    },
    {
      "cell_type": "code",
      "execution_count": null,
      "id": "85acb8c5-4965-4b3d-bda6-cc484bae765a",
      "metadata": {
        "id": "85acb8c5-4965-4b3d-bda6-cc484bae765a"
      },
      "outputs": [],
      "source": [
        "res, prof = (\n",
        "    transactions\n",
        "    .filter(pl.col(\"CUST_ID\") == \"CIP0I11MG2\")\n",
        "    .select(pl.col(\"AMOUNT\").max())\n",
        "    .profile()\n",
        ")\n",
        "\n",
        "prof.with_columns(\n",
        "    ((pl.col(\"end\") - pl.col(\"start\")) / pl.col(\"end\").max() * 100)\n",
        "    .alias(\"pct_time_spent\")\n",
        ")"
      ]
    },
    {
      "cell_type": "markdown",
      "id": "920ecf53-726a-467b-9493-c86cfab66e74",
      "metadata": {
        "id": "920ecf53-726a-467b-9493-c86cfab66e74"
      },
      "source": [
        "We spent 99.9%+ of the time just reading the data. Polars can use the GPU-accelerated Parquet reader to read this data, but ultimately when we're **IO bound** like this, there's less opportunity for GPU-acceleration.\n",
        "\n",
        "Let's try an even more computationally intense query."
      ]
    },
    {
      "cell_type": "markdown",
      "id": "3967525b-00da-488f-beba-6c14b74371de",
      "metadata": {
        "id": "3967525b-00da-488f-beba-6c14b74371de"
      },
      "source": [
        "## What's the per-month transaction amount for each category over time?\n",
        "\n",
        "For this query, we'll group and sort down to the individual month, which takes more work."
      ]
    },
    {
      "cell_type": "code",
      "execution_count": null,
      "id": "c40ca24a-abfd-4652-afe6-2d709f07d038",
      "metadata": {
        "id": "c40ca24a-abfd-4652-afe6-2d709f07d038"
      },
      "outputs": [],
      "source": [
        "%%time\n",
        "\n",
        "res = (\n",
        "    transactions\n",
        "    .group_by([\"EXP_TYPE\", \"YEAR\", \"MONTH\"])\n",
        "    .agg(pl.mean(\"AMOUNT\"))\n",
        "    .sort([\"EXP_TYPE\", \"YEAR\", \"MONTH\"])\n",
        "    .collect()\n",
        ")"
      ]
    },
    {
      "cell_type": "code",
      "execution_count": null,
      "id": "a4810ebe-41b1-46f3-b3a6-9b4ffd9ad4f3",
      "metadata": {
        "id": "a4810ebe-41b1-46f3-b3a6-9b4ffd9ad4f3"
      },
      "outputs": [],
      "source": [
        "%%time\n",
        "\n",
        "res = (\n",
        "    transactions\n",
        "    .group_by([\"EXP_TYPE\", \"YEAR\", \"MONTH\"])\n",
        "    .agg(pl.mean(\"AMOUNT\"))\n",
        "    .sort([\"EXP_TYPE\", \"YEAR\", \"MONTH\"])\n",
        "    .collect(engine=gpu_engine)\n",
        ")"
      ]
    },
    {
      "cell_type": "markdown",
      "id": "9f5c9e6e-de8f-4b62-8799-e39dfc9ce61e",
      "metadata": {
        "id": "9f5c9e6e-de8f-4b62-8799-e39dfc9ce61e"
      },
      "source": [
        "Again, since this query does more work we see strong performance benefits on the GPU."
      ]
    },
    {
      "cell_type": "markdown",
      "id": "a50c5318-0aa7-46be-b0e0-e98f7306ead4",
      "metadata": {
        "id": "a50c5318-0aa7-46be-b0e0-e98f7306ead4"
      },
      "source": [
        "## Interoperability\n",
        "\n",
        "As mentioned in the introduction, all results will be materialized as standard CPU Polars DataFrames.\n",
        "\n",
        "That means that any results from GPU-accelerated queries interoperate seamlessly with the rest of the polars ecosystem. For example, we can use Polars' built-in plotting functionality on the result we created from the GPU engine.\n",
        "\n",
        "**Colab Note**: Using HoloViews/Bokeh in Colab is not fully supported, so plots may not render correctly."
      ]
    },
    {
      "cell_type": "code",
      "execution_count": null,
      "id": "27802e3a-0fe8-4642-a7fd-9b00f709181d",
      "metadata": {
        "id": "27802e3a-0fe8-4642-a7fd-9b00f709181d"
      },
      "outputs": [],
      "source": [
        "res = res.with_columns(\n",
        "    pl.datetime(pl.col(\"YEAR\"), pl.col(\"MONTH\"), day=1)\n",
        "    .alias(\"year-mon\")\n",
        ")\n",
        "\n",
        "res.plot.scatter(x=\"year-mon\", y=\"AMOUNT\", groupby=\"EXP_TYPE\")"
      ]
    },
    {
      "cell_type": "markdown",
      "id": "649143e3-cd2c-4f4b-9fb0-120c395beb41",
      "metadata": {
        "id": "649143e3-cd2c-4f4b-9fb0-120c395beb41"
      },
      "source": [
        "Interoperability goes in the other direction, too. We can use materialized CPU DataFrames in downstream operations on the GPU. Polars will handle any necessary CPU/GPU conversions for us, which we'll see shortly."
      ]
    },
    {
      "cell_type": "markdown",
      "id": "6adda121-d709-4f4d-abc2-66e8f056873e",
      "metadata": {
        "id": "6adda121-d709-4f4d-abc2-66e8f056873e"
      },
      "source": [
        "# Moving Beyond Our Single Dataset\n",
        "\n",
        "Let's bring in some weather data to evaluate if transactions are impacted by weather. For example, spending behavior for certain categories could be influenced by whether it's raining or even _how much_ it's raining.\n",
        "\n",
        "Like our transactions dataset, here we'll use a simulated rainfall dataset."
      ]
    },
    {
      "cell_type": "markdown",
      "id": "cba0ded1-05bd-4bc4-9e87-70db2231fe92",
      "metadata": {
        "id": "cba0ded1-05bd-4bc4-9e87-70db2231fe92"
      },
      "source": [
        "## Is more rain related to more transactions across specific categories?\n",
        "\n",
        "Our rainfall dataset is a CSV file, so we'll use the CSV reader here and take a look at a few rows.\n",
        "\n",
        "In this case, we'll load the data using the CPU to highlight how smoothly Polars handles mixing CPU and GPU objects."
      ]
    },
    {
      "cell_type": "code",
      "execution_count": null,
      "id": "8756b895-59fb-42b6-8d85-2c38a69c06a0",
      "metadata": {
        "id": "8756b895-59fb-42b6-8d85-2c38a69c06a0"
      },
      "outputs": [],
      "source": [
        "names = ['Location', 'Rainfall (inches)', 'Date', 'YEAR', 'MONTH', 'DAY']\n",
        "\n",
        "weather = pl.scan_csv(\"rainfall_data_2010_2020.csv\", new_columns=names)\n",
        "weather.head().collect()"
      ]
    },
    {
      "cell_type": "markdown",
      "id": "412ce849-c518-4e70-a236-fb6077b0010a",
      "metadata": {
        "id": "412ce849-c518-4e70-a236-fb6077b0010a"
      },
      "source": [
        "Data is often messy. We've got dates in this CSV file, but they weren't parsed as dates by the CSV reader due to the format. We can easily clean this up by typecasting, after which we'll materialize the DataFrame in CPU memory."
      ]
    },
    {
      "cell_type": "code",
      "execution_count": null,
      "id": "fc9f8525-d80c-430d-8baa-6bde0f1d7753",
      "metadata": {
        "id": "fc9f8525-d80c-430d-8baa-6bde0f1d7753"
      },
      "outputs": [],
      "source": [
        "weather_cleaned = (\n",
        "    weather\n",
        "    .with_columns(pl.col(\"Date\").cast(pl.Utf8).str.strptime(pl.Date(), \"%Y%m%d\"))\n",
        "    .collect()\n",
        ")"
      ]
    },
    {
      "cell_type": "markdown",
      "id": "e0e84402-6b5d-4a2b-878e-cd72a0613fb1",
      "metadata": {
        "id": "e0e84402-6b5d-4a2b-878e-cd72a0613fb1"
      },
      "source": [
        "To answer the original question about rainfall and spending, we need to join these datasets together.\n",
        "\n",
        "We can pass this CPU in-memory DataFrame to a Polars Lazy API query by calling `.lazy()`."
      ]
    },
    {
      "cell_type": "code",
      "execution_count": null,
      "id": "899d0901-a4f5-4f08-87dc-90464c15796f",
      "metadata": {
        "id": "899d0901-a4f5-4f08-87dc-90464c15796f"
      },
      "outputs": [],
      "source": [
        "%%time\n",
        "\n",
        "(\n",
        "    transactions\n",
        "    .join(\n",
        "        other=weather_cleaned.lazy(),\n",
        "        left_on=\"DATE\",\n",
        "        right_on=\"Date\",\n",
        "        how=\"inner\"\n",
        "    )\n",
        "    .group_by([\"EXP_TYPE\", \"DATE\"])\n",
        "    .agg(pl.mean(\"Rainfall (inches)\"))\n",
        "    .sort([\"DATE\", \"EXP_TYPE\", \"Rainfall (inches)\"])\n",
        "    .head()\n",
        "    .collect()\n",
        ")"
      ]
    },
    {
      "cell_type": "markdown",
      "id": "8d45dbf4-cc57-4b4a-a8bd-4877c9044c64",
      "metadata": {
        "id": "8d45dbf4-cc57-4b4a-a8bd-4877c9044c64"
      },
      "source": [
        "When we run the same query on the GPU, Polars handles the CPU / GPU transfers for us under the hood."
      ]
    },
    {
      "cell_type": "code",
      "execution_count": null,
      "id": "1d959209-4803-4c31-8f22-1fda809ca1d0",
      "metadata": {
        "id": "1d959209-4803-4c31-8f22-1fda809ca1d0"
      },
      "outputs": [],
      "source": [
        "%%time\n",
        "\n",
        "(\n",
        "    transactions\n",
        "    .join(\n",
        "        other=weather_cleaned.lazy(),\n",
        "        left_on=\"DATE\",\n",
        "        right_on=\"Date\",\n",
        "        how=\"inner\"\n",
        "    )\n",
        "    .group_by([\"EXP_TYPE\", \"DATE\"])\n",
        "    .agg(pl.mean(\"Rainfall (inches)\"))\n",
        "    .sort([\"DATE\", \"EXP_TYPE\", \"Rainfall (inches)\"])\n",
        "    .head()\n",
        "    .collect(engine=gpu_engine)\n",
        ")"
      ]
    },
    {
      "cell_type": "markdown",
      "id": "4a91bde7-5366-4843-9103-1a8067605d97",
      "metadata": {
        "id": "4a91bde7-5366-4843-9103-1a8067605d97"
      },
      "source": [
        "Let's demonstrate some more of the native plotting facilities in Polars by answering the question in more holistic fashion.\n",
        "\n",
        "We'll make a plot of total rainfall and total amount spent per month for each year and each type of expenditure."
      ]
    },
    {
      "cell_type": "code",
      "execution_count": null,
      "id": "96d4bdd5-1513-4ab9-8706-8efe69697c89",
      "metadata": {
        "id": "96d4bdd5-1513-4ab9-8706-8efe69697c89"
      },
      "outputs": [],
      "source": [
        "res = (\n",
        "    transactions\n",
        "    .join(\n",
        "        other=weather_cleaned.lazy(),\n",
        "        left_on=\"DATE\",\n",
        "        right_on=\"Date\",\n",
        "        how=\"inner\"\n",
        "    )\n",
        "    .group_by([\"EXP_TYPE\", \"YEAR\", \"MONTH\"])\n",
        "    .agg(pl.sum(\"Rainfall (inches)\"), pl.sum(\"AMOUNT\"))\n",
        "    .sort([\"YEAR\", \"MONTH\"])\n",
        "    .collect(engine=gpu_engine)\n",
        ")\n",
        "\n",
        "res"
      ]
    },
    {
      "cell_type": "code",
      "execution_count": null,
      "id": "af3df206-7379-409d-b0c1-e03b04c09a4c",
      "metadata": {
        "id": "af3df206-7379-409d-b0c1-e03b04c09a4c"
      },
      "outputs": [],
      "source": [
        "(\n",
        "    res\n",
        "    .with_columns(\n",
        "        pl.date(pl.col(\"YEAR\"), pl.col(\"MONTH\"), 1).alias(\"date-month\"),\n",
        "        pl.col(\"Rainfall (inches)\")*100,\n",
        "    )\n",
        "    .plot.line(\n",
        "        x=\"date-month\", y=[\"AMOUNT\", \"Rainfall (inches)\"],\n",
        "        groupby=['EXP_TYPE'],\n",
        "        rot=45,\n",
        "    )\n",
        ")"
      ]
    },
    {
      "cell_type": "markdown",
      "id": "1bf4c85a-c0d6-449a-afc0-9ddfa972a6f8",
      "metadata": {
        "id": "1bf4c85a-c0d6-449a-afc0-9ddfa972a6f8"
      },
      "source": [
        "We intially constructed the GPU engine with `raise_on_fail=True` to demonstrate the breadth of GPU support. Now, we'll demonstrate how a not yet GPU supported feature is handled gracefully when we set `raise_on_fail=False` (the default behavior for `engine=\"gpu\"`).\n",
        "\n",
        "When we use `rolling_mean`, our query smoothly falls back to the CPU to continue running rather than failing."
      ]
    },
    {
      "cell_type": "code",
      "execution_count": null,
      "id": "d981aadf-240e-4b42-bd07-923b36c2f74a",
      "metadata": {
        "id": "d981aadf-240e-4b42-bd07-923b36c2f74a"
      },
      "outputs": [],
      "source": [
        "engine_with_fallback = pl.GPUEngine(\n",
        "    device=0, # This is the default\n",
        "    raise_on_fail=False, # Fallback to CPU if we can't run on the GPU (this is the default)\n",
        ")"
      ]
    },
    {
      "cell_type": "code",
      "execution_count": null,
      "id": "242bd5cc-9aa3-4e9a-8095-c7c46cea5075",
      "metadata": {
        "id": "242bd5cc-9aa3-4e9a-8095-c7c46cea5075"
      },
      "outputs": [],
      "source": [
        "%%time\n",
        "\n",
        "result = transactions.with_columns(\n",
        "    pl.col('AMOUNT').rolling_mean(\n",
        "        window_size=7\n",
        "    )\n",
        "     .alias('rolling_avg')\n",
        ").collect(engine=engine_with_fallback)\n",
        "\n",
        "result.head()"
      ]
    },
    {
      "cell_type": "markdown",
      "id": "0f1117ca-8667-49d7-a97e-1e01d9b2aa4b",
      "metadata": {
        "id": "0f1117ca-8667-49d7-a97e-1e01d9b2aa4b"
      },
      "source": [
        "# Conclusion\n",
        "\n",
        "With the new Polars GPU engine powered by cuDF, you can potentially get significant performance gains and lower costs for workflows processing 10-100+ GB of data.\n",
        "\n",
        "To learn more, we encourage you to visit the Polars GPU Support documentation or visit rapids.ai/cudf-polars."
      ]
    },
    {
      "cell_type": "code",
      "source": [],
      "metadata": {
        "id": "5oxdKkfnnFq9"
      },
      "id": "5oxdKkfnnFq9",
      "execution_count": null,
      "outputs": []
    }
  ],
  "metadata": {
    "accelerator": "GPU",
    "colab": {
      "gpuType": "T4",
      "provenance": []
    },
    "kernelspec": {
      "display_name": "Python 3 (ipykernel)",
      "language": "python",
      "name": "python3"
    },
    "language_info": {
      "codemirror_mode": {
        "name": "ipython",
        "version": 3
      },
      "file_extension": ".py",
      "mimetype": "text/x-python",
      "name": "python",
      "nbconvert_exporter": "python",
      "pygments_lexer": "ipython3",
      "version": "3.11.9"
    }
  },
  "nbformat": 4,
  "nbformat_minor": 5
}
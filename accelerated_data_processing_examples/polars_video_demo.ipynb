{
 "cells": [
  {
   "cell_type": "code",
   "execution_count": 6,
   "id": "04efdd58-8b09-4aa0-a5bc-7131d5c8d4b4",
   "metadata": {},
   "outputs": [],
   "source": [
    "import polars as pl\n",
    "from polars.testing import assert_frame_equal"
   ]
  },
  {
   "cell_type": "markdown",
   "id": "d4f6dd07-4ad4-42dc-b808-8abfc39fd285",
   "metadata": {},
   "source": [
    "# Reading the data"
   ]
  },
  {
   "cell_type": "code",
   "execution_count": 23,
   "id": "d824d37c-4b75-42fb-9770-9b6a02324bf8",
   "metadata": {},
   "outputs": [],
   "source": [
    "transactions = pl.scan_parquet(\"./Data/100M_transactions.parquet\")"
   ]
  },
  {
   "cell_type": "code",
   "execution_count": 33,
   "id": "b388a7d1-f95c-4b5e-9536-c9afea36c71f",
   "metadata": {},
   "outputs": [
    {
     "name": "stdout",
     "output_type": "stream",
     "text": [
      "shape: (5, 10)\n",
      "┌────────────┬────────────┬──────────┬─────────────────┬───┬───────┬─────┬───────────────┬────────┐\n",
      "│ CUST_ID    ┆ START_DATE ┆ END_DATE ┆ TRANS_ID        ┆ … ┆ MONTH ┆ DAY ┆ EXP_TYPE      ┆ AMOUNT │\n",
      "│ ---        ┆ ---        ┆ ---      ┆ ---             ┆   ┆ ---   ┆ --- ┆ ---           ┆ ---    │\n",
      "│ str        ┆ date       ┆ date     ┆ str             ┆   ┆ i64   ┆ i64 ┆ str           ┆ f64    │\n",
      "╞════════════╪════════════╪══════════╪═════════════════╪═══╪═══════╪═════╪═══════════════╪════════╡\n",
      "│ CI6XLYUMQK ┆ 2015-05-01 ┆ null     ┆ T8I9ZB5A6X90UG8 ┆ … ┆ 9     ┆ 11  ┆ Motor/Travel  ┆ 20.27  │\n",
      "│ CI6XLYUMQK ┆ 2015-05-01 ┆ null     ┆ TZ4JSLS7SC7FO9H ┆ … ┆ 2     ┆ 8   ┆ Motor/Travel  ┆ 12.85  │\n",
      "│ CI6XLYUMQK ┆ 2015-05-01 ┆ null     ┆ TTUKRDDJ6B6F42H ┆ … ┆ 8     ┆ 1   ┆ Housing       ┆ 383.8  │\n",
      "│ CI6XLYUMQK ┆ 2015-05-01 ┆ null     ┆ TDUHFRUKGPPI6HD ┆ … ┆ 3     ┆ 16  ┆ Entertainment ┆ 5.72   │\n",
      "│ CI6XLYUMQK ┆ 2015-05-01 ┆ null     ┆ T0JBZHBMSVRFMMD ┆ … ┆ 5     ┆ 15  ┆ Entertainment ┆ 11.06  │\n",
      "└────────────┴────────────┴──────────┴─────────────────┴───┴───────┴─────┴───────────────┴────────┘\n",
      "CPU times: user 175 ms, sys: 0 ns, total: 175 ms\n",
      "Wall time: 115 ms\n"
     ]
    }
   ],
   "source": [
    "%%time\n",
    "print(transactions.head().collect(engine=\"gpu\"))"
   ]
  },
  {
   "cell_type": "markdown",
   "id": "eeabede7-5e7b-43e2-b5de-76817e138059",
   "metadata": {},
   "source": [
    "# Which customers have the largest total transctions?"
   ]
  },
  {
   "cell_type": "code",
   "execution_count": 32,
   "id": "a41d7cfd-e91e-488f-960b-ee4c5b9591ee",
   "metadata": {},
   "outputs": [
    {
     "name": "stdout",
     "output_type": "stream",
     "text": [
      "shape: (5, 2)\n",
      "┌────────────┬──────────┐\n",
      "│ CUST_ID    ┆ AMOUNT   │\n",
      "│ ---        ┆ ---      │\n",
      "│ str        ┆ f64      │\n",
      "╞════════════╪══════════╡\n",
      "│ CP2KXQSX9I ┆ 2.3108e6 │\n",
      "│ CGOKEO2EH4 ┆ 2.2721e6 │\n",
      "│ CXYJF3GWQU ┆ 2.2389e6 │\n",
      "│ C6JC5K02HA ┆ 2.1787e6 │\n",
      "│ CVH8KQGTUE ┆ 2.1193e6 │\n",
      "└────────────┴──────────┘\n",
      "CPU times: user 526 ms, sys: 51.4 ms, total: 578 ms\n",
      "Wall time: 554 ms\n"
     ]
    }
   ],
   "source": [
    "%%time\n",
    "\n",
    "result = (\n",
    "    transactions\n",
    "    .group_by(\"CUST_ID\")\n",
    "    .agg(pl.col(\"AMOUNT\").sum())\n",
    "    .sort(by=\"AMOUNT\", descending=True)\n",
    "    .head()\n",
    "    .collect(engine=\"gpu\")\n",
    ")\n",
    "\n",
    "print(result)"
   ]
  },
  {
   "cell_type": "markdown",
   "id": "2fea8e85-e5bb-4626-befe-a993f3fd2f26",
   "metadata": {},
   "source": [
    "## Which customers have the largest single transaction?"
   ]
  },
  {
   "cell_type": "code",
   "execution_count": 29,
   "id": "c93d3b9e-f2a8-4207-8428-a6810cb638ca",
   "metadata": {},
   "outputs": [
    {
     "name": "stdout",
     "output_type": "stream",
     "text": [
      "shape: (10, 2)\n",
      "┌────────────┬────────────┐\n",
      "│ CUST_ID    ┆ max_amount │\n",
      "│ ---        ┆ ---        │\n",
      "│ str        ┆ f64        │\n",
      "╞════════════╪════════════╡\n",
      "│ CHF93DNS7X ┆ 6334.35    │\n",
      "│ CZWNES9XE7 ┆ 6333.97    │\n",
      "│ C90Z7WVK7W ┆ 6333.4     │\n",
      "│ CDX7EY0YZZ ┆ 6321.0     │\n",
      "│ CTLQHZ43M3 ┆ 6317.29    │\n",
      "│ CNDMIE41TL ┆ 6314.18    │\n",
      "│ C01218TOCY ┆ 6312.37    │\n",
      "│ CXDPMWDPIZ ┆ 6303.4     │\n",
      "│ C9USG5C24Y ┆ 6300.8     │\n",
      "│ CKD303LHXE ┆ 6300.67    │\n",
      "└────────────┴────────────┘\n",
      "CPU times: user 549 ms, sys: 59.4 ms, total: 608 ms\n",
      "Wall time: 580 ms\n"
     ]
    }
   ],
   "source": [
    "%%time\n",
    "\n",
    "result = (\n",
    "    transactions\n",
    "    .group_by(\"CUST_ID\")\n",
    "    .agg(pl.col(\"AMOUNT\").max().alias(\"max_amount\"))\n",
    "    .sort(by=\"max_amount\", descending=True)\n",
    "    .head(10)\n",
    "    .collect(engine=\"gpu\")\n",
    ")\n",
    "\n",
    "# Pretty print the dataframe\n",
    "print(result)"
   ]
  },
  {
   "cell_type": "markdown",
   "id": "7b18b59f-887f-4c42-9e11-c64a5bdc7c1d",
   "metadata": {},
   "source": [
    "## What's the per-month transaction amount for each category over time?"
   ]
  },
  {
   "cell_type": "code",
   "execution_count": 31,
   "id": "4dca0ab6-3a71-42b2-be67-e44017665fcd",
   "metadata": {},
   "outputs": [
    {
     "name": "stdout",
     "output_type": "stream",
     "text": [
      "shape: (10, 4)\n",
      "┌─────────────────────┬──────┬───────┬────────────┐\n",
      "│ EXP_TYPE            ┆ YEAR ┆ MONTH ┆ AMOUNT     │\n",
      "│ ---                 ┆ ---  ┆ ---   ┆ ---        │\n",
      "│ str                 ┆ i64  ┆ i64   ┆ f64        │\n",
      "╞═════════════════════╪══════╪═══════╪════════════╡\n",
      "│ Bills and Utilities ┆ 2010 ┆ 1     ┆ 204.85838  │\n",
      "│ Bills and Utilities ┆ 2010 ┆ 2     ┆ 206.592982 │\n",
      "│ Bills and Utilities ┆ 2010 ┆ 3     ┆ 212.972266 │\n",
      "│ Bills and Utilities ┆ 2010 ┆ 4     ┆ 211.853896 │\n",
      "│ Bills and Utilities ┆ 2010 ┆ 5     ┆ 208.788923 │\n",
      "│ Bills and Utilities ┆ 2010 ┆ 6     ┆ 210.744436 │\n",
      "│ Bills and Utilities ┆ 2010 ┆ 7     ┆ 209.58854  │\n",
      "│ Bills and Utilities ┆ 2010 ┆ 8     ┆ 209.404764 │\n",
      "│ Bills and Utilities ┆ 2010 ┆ 9     ┆ 210.791806 │\n",
      "│ Bills and Utilities ┆ 2010 ┆ 10    ┆ 213.101376 │\n",
      "└─────────────────────┴──────┴───────┴────────────┘\n",
      "CPU times: user 646 ms, sys: 75.1 ms, total: 721 ms\n",
      "Wall time: 682 ms\n"
     ]
    }
   ],
   "source": [
    "%%time\n",
    "\n",
    "result = (\n",
    "    transactions\n",
    "    .group_by([\"EXP_TYPE\", \"YEAR\", \"MONTH\"])\n",
    "    .agg(pl.mean(\"AMOUNT\"))\n",
    "    .sort([\"EXP_TYPE\", \"YEAR\", \"MONTH\"])\n",
    "    .head(10)\n",
    "    .collect(engine=\"gpu\")\n",
    ")\n",
    "\n",
    "# Pretty print the dataframe\n",
    "print(result)"
   ]
  },
  {
   "cell_type": "code",
   "execution_count": null,
   "id": "104e5c61-67d0-4282-9735-82616682f5e4",
   "metadata": {},
   "outputs": [],
   "source": []
  }
 ],
 "metadata": {
  "kernelspec": {
   "display_name": "Polars_exp",
   "language": "python",
   "name": "polars_exp"
  },
  "language_info": {
   "codemirror_mode": {
    "name": "ipython",
    "version": 3
   },
   "file_extension": ".py",
   "mimetype": "text/x-python",
   "name": "python",
   "nbconvert_exporter": "python",
   "pygments_lexer": "ipython3",
   "version": "3.11.9"
  }
 },
 "nbformat": 4,
 "nbformat_minor": 5
}

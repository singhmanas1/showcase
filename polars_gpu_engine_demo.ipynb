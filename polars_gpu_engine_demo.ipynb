{
  "cells": [
    {
      "cell_type": "markdown",
      "metadata": {
        "id": "view-in-github",
        "colab_type": "text"
      },
      "source": [
        "<a href=\"https://colab.research.google.com/github/singhmanas1/showcase/blob/polars_demo/polars_gpu_engine_demo.ipynb\" target=\"_parent\"><img src=\"https://colab.research.google.com/assets/colab-badge.svg\" alt=\"Open In Colab\"/></a>"
      ]
    },
    {
      "cell_type": "code",
      "execution_count": 9,
      "id": "06582ce0-5db4-46e6-8ced-1e65f97e54b1",
      "metadata": {
        "id": "06582ce0-5db4-46e6-8ced-1e65f97e54b1",
        "colab": {
          "base_uri": "https://localhost:8080/"
        },
        "outputId": "ea343c39-7075-4b3c-d722-d0eea91df7a8"
      },
      "outputs": [
        {
          "output_type": "stream",
          "name": "stdout",
          "text": [
            "Tue Sep  3 22:39:54 2024       \n",
            "+---------------------------------------------------------------------------------------+\n",
            "| NVIDIA-SMI 535.104.05             Driver Version: 535.104.05   CUDA Version: 12.2     |\n",
            "|-----------------------------------------+----------------------+----------------------+\n",
            "| GPU  Name                 Persistence-M | Bus-Id        Disp.A | Volatile Uncorr. ECC |\n",
            "| Fan  Temp   Perf          Pwr:Usage/Cap |         Memory-Usage | GPU-Util  Compute M. |\n",
            "|                                         |                      |               MIG M. |\n",
            "|=========================================+======================+======================|\n",
            "|   0  Tesla T4                       Off | 00000000:00:04.0 Off |                    0 |\n",
            "| N/A   49C    P0              28W /  70W |   7641MiB / 15360MiB |      0%      Default |\n"
          ]
        }
      ],
      "source": [
        "!nvidia-smi | head"
      ]
    },
    {
      "cell_type": "code",
      "source": [
        "# Installing the wheel file-"
      ],
      "metadata": {
        "id": "CYMwhXzh-T0J"
      },
      "id": "CYMwhXzh-T0J",
      "execution_count": 10,
      "outputs": []
    },
    {
      "cell_type": "code",
      "source": [
        "!pip install polars==1.5\n",
        "!pip install \"cudf_polars_cu12-24.8.0a433-py3-none-any.whl\" --extra-index-url=https://pypi.anaconda.org/rapidsai-wheels-nightly/simple"
      ],
      "metadata": {
        "id": "8KsqSnilHhSX",
        "colab": {
          "base_uri": "https://localhost:8080/"
        },
        "outputId": "27d96f17-5e61-47e4-a174-0317fc03e280"
      },
      "id": "8KsqSnilHhSX",
      "execution_count": 9,
      "outputs": [
        {
          "output_type": "stream",
          "name": "stdout",
          "text": [
            "Requirement already satisfied: polars==1.5 in /usr/local/lib/python3.10/dist-packages (1.5.0)\n",
            "Looking in indexes: https://pypi.org/simple, https://pypi.anaconda.org/rapidsai-wheels-nightly/simple\n",
            "Processing ./cudf_polars_cu12-24.8.0a433-py3-none-any.whl\n",
            "Requirement already satisfied: cudf-cu12==24.8.*,>=0.0.0a0 in /usr/local/lib/python3.10/dist-packages (from cudf-polars-cu12==24.8.0a433) (24.8.2)\n",
            "Requirement already satisfied: polars>=1.3 in /usr/local/lib/python3.10/dist-packages (from cudf-polars-cu12==24.8.0a433) (1.5.0)\n",
            "Requirement already satisfied: cachetools in /usr/local/lib/python3.10/dist-packages (from cudf-cu12==24.8.*,>=0.0.0a0->cudf-polars-cu12==24.8.0a433) (5.5.0)\n",
            "Requirement already satisfied: cuda-python<13.0a0,>=12.0 in /usr/local/lib/python3.10/dist-packages (from cudf-cu12==24.8.*,>=0.0.0a0->cudf-polars-cu12==24.8.0a433) (12.2.1)\n",
            "Requirement already satisfied: cupy-cuda12x>=12.0.0 in /usr/local/lib/python3.10/dist-packages (from cudf-cu12==24.8.*,>=0.0.0a0->cudf-polars-cu12==24.8.0a433) (12.2.0)\n",
            "Requirement already satisfied: fsspec>=0.6.0 in /usr/local/lib/python3.10/dist-packages (from cudf-cu12==24.8.*,>=0.0.0a0->cudf-polars-cu12==24.8.0a433) (2024.6.1)\n",
            "Requirement already satisfied: numba>=0.57 in /usr/local/lib/python3.10/dist-packages (from cudf-cu12==24.8.*,>=0.0.0a0->cudf-polars-cu12==24.8.0a433) (0.60.0)\n",
            "Requirement already satisfied: numpy<2.0a0,>=1.23 in /usr/local/lib/python3.10/dist-packages (from cudf-cu12==24.8.*,>=0.0.0a0->cudf-polars-cu12==24.8.0a433) (1.26.4)\n",
            "Requirement already satisfied: nvtx>=0.2.1 in /usr/local/lib/python3.10/dist-packages (from cudf-cu12==24.8.*,>=0.0.0a0->cudf-polars-cu12==24.8.0a433) (0.2.10)\n",
            "Requirement already satisfied: packaging in /usr/local/lib/python3.10/dist-packages (from cudf-cu12==24.8.*,>=0.0.0a0->cudf-polars-cu12==24.8.0a433) (24.1)\n",
            "Requirement already satisfied: pandas<2.2.3dev0,>=2.0 in /usr/local/lib/python3.10/dist-packages (from cudf-cu12==24.8.*,>=0.0.0a0->cudf-polars-cu12==24.8.0a433) (2.1.4)\n",
            "Requirement already satisfied: pyarrow<16.2.0a0,>=16.1.0 in /usr/local/lib/python3.10/dist-packages (from cudf-cu12==24.8.*,>=0.0.0a0->cudf-polars-cu12==24.8.0a433) (16.1.0)\n",
            "Requirement already satisfied: pynvjitlink-cu12 in /usr/local/lib/python3.10/dist-packages (from cudf-cu12==24.8.*,>=0.0.0a0->cudf-polars-cu12==24.8.0a433) (0.3.0)\n",
            "Requirement already satisfied: rich in /usr/local/lib/python3.10/dist-packages (from cudf-cu12==24.8.*,>=0.0.0a0->cudf-polars-cu12==24.8.0a433) (13.8.0)\n",
            "Requirement already satisfied: rmm-cu12==24.8.* in /usr/local/lib/python3.10/dist-packages (from cudf-cu12==24.8.*,>=0.0.0a0->cudf-polars-cu12==24.8.0a433) (24.8.2)\n",
            "Requirement already satisfied: typing_extensions>=4.0.0 in /usr/local/lib/python3.10/dist-packages (from cudf-cu12==24.8.*,>=0.0.0a0->cudf-polars-cu12==24.8.0a433) (4.12.2)\n",
            "Requirement already satisfied: cython in /usr/local/lib/python3.10/dist-packages (from cuda-python<13.0a0,>=12.0->cudf-cu12==24.8.*,>=0.0.0a0->cudf-polars-cu12==24.8.0a433) (3.0.11)\n",
            "Requirement already satisfied: fastrlock>=0.5 in /usr/local/lib/python3.10/dist-packages (from cupy-cuda12x>=12.0.0->cudf-cu12==24.8.*,>=0.0.0a0->cudf-polars-cu12==24.8.0a433) (0.8.2)\n",
            "Requirement already satisfied: llvmlite<0.44,>=0.43.0dev0 in /usr/local/lib/python3.10/dist-packages (from numba>=0.57->cudf-cu12==24.8.*,>=0.0.0a0->cudf-polars-cu12==24.8.0a433) (0.43.0)\n",
            "Requirement already satisfied: python-dateutil>=2.8.2 in /usr/local/lib/python3.10/dist-packages (from pandas<2.2.3dev0,>=2.0->cudf-cu12==24.8.*,>=0.0.0a0->cudf-polars-cu12==24.8.0a433) (2.8.2)\n",
            "Requirement already satisfied: pytz>=2020.1 in /usr/local/lib/python3.10/dist-packages (from pandas<2.2.3dev0,>=2.0->cudf-cu12==24.8.*,>=0.0.0a0->cudf-polars-cu12==24.8.0a433) (2024.1)\n",
            "Requirement already satisfied: tzdata>=2022.1 in /usr/local/lib/python3.10/dist-packages (from pandas<2.2.3dev0,>=2.0->cudf-cu12==24.8.*,>=0.0.0a0->cudf-polars-cu12==24.8.0a433) (2024.1)\n",
            "Requirement already satisfied: markdown-it-py>=2.2.0 in /usr/local/lib/python3.10/dist-packages (from rich->cudf-cu12==24.8.*,>=0.0.0a0->cudf-polars-cu12==24.8.0a433) (3.0.0)\n",
            "Requirement already satisfied: pygments<3.0.0,>=2.13.0 in /usr/local/lib/python3.10/dist-packages (from rich->cudf-cu12==24.8.*,>=0.0.0a0->cudf-polars-cu12==24.8.0a433) (2.16.1)\n",
            "Requirement already satisfied: mdurl~=0.1 in /usr/local/lib/python3.10/dist-packages (from markdown-it-py>=2.2.0->rich->cudf-cu12==24.8.*,>=0.0.0a0->cudf-polars-cu12==24.8.0a433) (0.1.2)\n",
            "Requirement already satisfied: six>=1.5 in /usr/local/lib/python3.10/dist-packages (from python-dateutil>=2.8.2->pandas<2.2.3dev0,>=2.0->cudf-cu12==24.8.*,>=0.0.0a0->cudf-polars-cu12==24.8.0a433) (1.16.0)\n",
            "cudf-polars-cu12 is already installed with the same version as the provided wheel. Use --force-reinstall to force an installation of the wheel.\n"
          ]
        }
      ]
    },
    {
      "cell_type": "markdown",
      "source": [
        "If you aren't running in Google Colab, please install by following the instructions in the README."
      ],
      "metadata": {
        "id": "axituRYDLa5M"
      },
      "id": "axituRYDLa5M"
    },
    {
      "cell_type": "code",
      "execution_count": 1,
      "id": "cea57483-1979-4715-a5c8-c48bc8f63667",
      "metadata": {
        "id": "cea57483-1979-4715-a5c8-c48bc8f63667"
      },
      "outputs": [],
      "source": [
        "import polars as pl\n",
        "from polars.testing import assert_frame_equal"
      ]
    },
    {
      "cell_type": "code",
      "source": [
        "pl.__version__ # Make sure the version is `1.5.x`; If not restart the session."
      ],
      "metadata": {
        "colab": {
          "base_uri": "https://localhost:8080/",
          "height": 35
        },
        "id": "F_Aq6v5W4j8y",
        "outputId": "984ea25f-214a-4b43-c6de-8517acfadb62"
      },
      "id": "F_Aq6v5W4j8y",
      "execution_count": 2,
      "outputs": [
        {
          "output_type": "execute_result",
          "data": {
            "text/plain": [
              "'1.5.0'"
            ],
            "application/vnd.google.colaboratory.intrinsic+json": {
              "type": "string"
            }
          },
          "metadata": {},
          "execution_count": 2
        }
      ]
    },
    {
      "cell_type": "code",
      "source": [
        "transactions = pl.scan_parquet(\"100M_transactions.parquet\")"
      ],
      "metadata": {
        "id": "szoWOHzT4wT1"
      },
      "id": "szoWOHzT4wT1",
      "execution_count": 3,
      "outputs": []
    },
    {
      "cell_type": "code",
      "source": [
        "%%time\n",
        "print(transactions.head(100).collect(engine=\"gpu\"))"
      ],
      "metadata": {
        "colab": {
          "base_uri": "https://localhost:8080/"
        },
        "id": "co-yz2FR4xPO",
        "outputId": "f5c63fdc-5b6d-4e90-c676-5a7bf076dcc4"
      },
      "id": "co-yz2FR4xPO",
      "execution_count": 8,
      "outputs": [
        {
          "output_type": "stream",
          "name": "stdout",
          "text": [
            "shape: (100, 10)\n",
            "┌────────────┬────────────┬──────────┬─────────────────┬───┬───────┬─────┬───────────────┬────────┐\n",
            "│ CUST_ID    ┆ START_DATE ┆ END_DATE ┆ TRANS_ID        ┆ … ┆ MONTH ┆ DAY ┆ EXP_TYPE      ┆ AMOUNT │\n",
            "│ ---        ┆ ---        ┆ ---      ┆ ---             ┆   ┆ ---   ┆ --- ┆ ---           ┆ ---    │\n",
            "│ str        ┆ date       ┆ date     ┆ str             ┆   ┆ i64   ┆ i64 ┆ str           ┆ f64    │\n",
            "╞════════════╪════════════╪══════════╪═════════════════╪═══╪═══════╪═════╪═══════════════╪════════╡\n",
            "│ CI6XLYUMQK ┆ 2015-05-01 ┆ null     ┆ T8I9ZB5A6X90UG8 ┆ … ┆ 9     ┆ 11  ┆ Motor/Travel  ┆ 20.27  │\n",
            "│ CI6XLYUMQK ┆ 2015-05-01 ┆ null     ┆ TZ4JSLS7SC7FO9H ┆ … ┆ 2     ┆ 8   ┆ Motor/Travel  ┆ 12.85  │\n",
            "│ CI6XLYUMQK ┆ 2015-05-01 ┆ null     ┆ TTUKRDDJ6B6F42H ┆ … ┆ 8     ┆ 1   ┆ Housing       ┆ 383.8  │\n",
            "│ CI6XLYUMQK ┆ 2015-05-01 ┆ null     ┆ TDUHFRUKGPPI6HD ┆ … ┆ 3     ┆ 16  ┆ Entertainment ┆ 5.72   │\n",
            "│ CI6XLYUMQK ┆ 2015-05-01 ┆ null     ┆ T0JBZHBMSVRFMMD ┆ … ┆ 5     ┆ 15  ┆ Entertainment ┆ 11.06  │\n",
            "│ …          ┆ …          ┆ …        ┆ …               ┆ … ┆ …     ┆ …   ┆ …             ┆ …      │\n",
            "│ CI6XLYUMQK ┆ 2015-05-01 ┆ null     ┆ TP0DI0XQMG6IF51 ┆ … ┆ 7     ┆ 1   ┆ Housing       ┆ 464.62 │\n",
            "│ CI6XLYUMQK ┆ 2015-05-01 ┆ null     ┆ TWCIJ1NHXWZ17K3 ┆ … ┆ 9     ┆ 20  ┆ Groceries     ┆ 7.02   │\n",
            "│ CI6XLYUMQK ┆ 2015-05-01 ┆ null     ┆ TL89ZJEQMDX4DOQ ┆ … ┆ 11    ┆ 1   ┆ Housing       ┆ 472.24 │\n",
            "│ CI6XLYUMQK ┆ 2015-05-01 ┆ null     ┆ T2V8XIKSJVY6WCX ┆ … ┆ 10    ┆ 25  ┆ Entertainment ┆ 7.49   │\n",
            "│ CI6XLYUMQK ┆ 2015-05-01 ┆ null     ┆ T1D2F33JOPKTNR3 ┆ … ┆ 10    ┆ 24  ┆ Motor/Travel  ┆ 43.71  │\n",
            "└────────────┴────────────┴──────────┴─────────────────┴───┴───────┴─────┴───────────────┴────────┘\n",
            "CPU times: user 54 ms, sys: 7.69 ms, total: 61.7 ms\n",
            "Wall time: 183 ms\n"
          ]
        }
      ]
    },
    {
      "cell_type": "code",
      "source": [
        "%%time\n",
        "\n",
        "result = (\n",
        "    transactions\n",
        "    .group_by(\"CUST_ID\")\n",
        "    .agg(pl.col(\"AMOUNT\").sum())\n",
        "    .sort(by=\"AMOUNT\", descending=True)\n",
        "    .head()\n",
        "    .collect(engine=\"gpu\")\n",
        ")\n",
        "\n",
        "print(result)"
      ],
      "metadata": {
        "colab": {
          "base_uri": "https://localhost:8080/"
        },
        "id": "T59A1Ih68m_a",
        "outputId": "37b03148-2cf1-4b93-923a-0d3755b2880f"
      },
      "id": "T59A1Ih68m_a",
      "execution_count": 5,
      "outputs": [
        {
          "output_type": "stream",
          "name": "stdout",
          "text": [
            "shape: (5, 2)\n",
            "┌────────────┬──────────┐\n",
            "│ CUST_ID    ┆ AMOUNT   │\n",
            "│ ---        ┆ ---      │\n",
            "│ str        ┆ f64      │\n",
            "╞════════════╪══════════╡\n",
            "│ CP2KXQSX9I ┆ 2.3108e6 │\n",
            "│ CGOKEO2EH4 ┆ 2.2721e6 │\n",
            "│ CXYJF3GWQU ┆ 2.2389e6 │\n",
            "│ C6JC5K02HA ┆ 2.1787e6 │\n",
            "│ CVH8KQGTUE ┆ 2.1193e6 │\n",
            "└────────────┴──────────┘\n",
            "CPU times: user 574 ms, sys: 93.3 ms, total: 667 ms\n",
            "Wall time: 683 ms\n"
          ]
        }
      ]
    },
    {
      "cell_type": "code",
      "source": [
        "%%time\n",
        "\n",
        "result = (\n",
        "    transactions\n",
        "    .group_by(\"CUST_ID\")\n",
        "    .agg(pl.col(\"AMOUNT\").max().alias(\"max_amount\"))\n",
        "    .sort(by=\"max_amount\", descending=True)\n",
        "    .head(10)\n",
        "    .collect(engine=\"gpu\")\n",
        ")\n",
        "\n",
        "# Pretty print the dataframe\n",
        "print(result)"
      ],
      "metadata": {
        "colab": {
          "base_uri": "https://localhost:8080/"
        },
        "id": "MpfYZi0v9zhz",
        "outputId": "21110085-81df-4e72-d8cc-da752e432765"
      },
      "id": "MpfYZi0v9zhz",
      "execution_count": 6,
      "outputs": [
        {
          "output_type": "stream",
          "name": "stdout",
          "text": [
            "shape: (10, 2)\n",
            "┌────────────┬────────────┐\n",
            "│ CUST_ID    ┆ max_amount │\n",
            "│ ---        ┆ ---        │\n",
            "│ str        ┆ f64        │\n",
            "╞════════════╪════════════╡\n",
            "│ CHF93DNS7X ┆ 6334.35    │\n",
            "│ CZWNES9XE7 ┆ 6333.97    │\n",
            "│ C90Z7WVK7W ┆ 6333.4     │\n",
            "│ CDX7EY0YZZ ┆ 6321.0     │\n",
            "│ CTLQHZ43M3 ┆ 6317.29    │\n",
            "│ CNDMIE41TL ┆ 6314.18    │\n",
            "│ C01218TOCY ┆ 6312.37    │\n",
            "│ CXDPMWDPIZ ┆ 6303.4     │\n",
            "│ C9USG5C24Y ┆ 6300.8     │\n",
            "│ CKD303LHXE ┆ 6300.67    │\n",
            "└────────────┴────────────┘\n",
            "CPU times: user 385 ms, sys: 72.9 ms, total: 458 ms\n",
            "Wall time: 461 ms\n"
          ]
        }
      ]
    },
    {
      "cell_type": "code",
      "source": [
        "%%time\n",
        "\n",
        "result = (\n",
        "    transactions\n",
        "    .group_by([\"EXP_TYPE\", \"YEAR\", \"MONTH\"])\n",
        "    .agg(pl.mean(\"AMOUNT\"))\n",
        "    .sort([\"EXP_TYPE\", \"YEAR\", \"MONTH\"])\n",
        "    .head(10)\n",
        "    .collect(engine=\"gpu\")\n",
        ")\n",
        "\n",
        "# Pretty print the dataframe\n",
        "print(result)"
      ],
      "metadata": {
        "colab": {
          "base_uri": "https://localhost:8080/"
        },
        "id": "Z1FsKIB49-A-",
        "outputId": "f06826e1-36fb-4ee9-f625-de26878977c2"
      },
      "id": "Z1FsKIB49-A-",
      "execution_count": 7,
      "outputs": [
        {
          "output_type": "stream",
          "name": "stdout",
          "text": [
            "shape: (10, 4)\n",
            "┌─────────────────────┬──────┬───────┬────────────┐\n",
            "│ EXP_TYPE            ┆ YEAR ┆ MONTH ┆ AMOUNT     │\n",
            "│ ---                 ┆ ---  ┆ ---   ┆ ---        │\n",
            "│ str                 ┆ i64  ┆ i64   ┆ f64        │\n",
            "╞═════════════════════╪══════╪═══════╪════════════╡\n",
            "│ Bills and Utilities ┆ 2010 ┆ 1     ┆ 204.85838  │\n",
            "│ Bills and Utilities ┆ 2010 ┆ 2     ┆ 206.592982 │\n",
            "│ Bills and Utilities ┆ 2010 ┆ 3     ┆ 212.972266 │\n",
            "│ Bills and Utilities ┆ 2010 ┆ 4     ┆ 211.853896 │\n",
            "│ Bills and Utilities ┆ 2010 ┆ 5     ┆ 208.788923 │\n",
            "│ Bills and Utilities ┆ 2010 ┆ 6     ┆ 210.744436 │\n",
            "│ Bills and Utilities ┆ 2010 ┆ 7     ┆ 209.58854  │\n",
            "│ Bills and Utilities ┆ 2010 ┆ 8     ┆ 209.404764 │\n",
            "│ Bills and Utilities ┆ 2010 ┆ 9     ┆ 210.791806 │\n",
            "│ Bills and Utilities ┆ 2010 ┆ 10    ┆ 213.101376 │\n",
            "└─────────────────────┴──────┴───────┴────────────┘\n",
            "CPU times: user 505 ms, sys: 78 ms, total: 583 ms\n",
            "Wall time: 565 ms\n"
          ]
        }
      ]
    }
  ],
  "metadata": {
    "accelerator": "GPU",
    "colab": {
      "gpuType": "T4",
      "provenance": [],
      "include_colab_link": true
    },
    "kernelspec": {
      "display_name": "Python 3 (ipykernel)",
      "language": "python",
      "name": "python3"
    },
    "language_info": {
      "codemirror_mode": {
        "name": "ipython",
        "version": 3
      },
      "file_extension": ".py",
      "mimetype": "text/x-python",
      "name": "python",
      "nbconvert_exporter": "python",
      "pygments_lexer": "ipython3",
      "version": "3.11.9"
    }
  },
  "nbformat": 4,
  "nbformat_minor": 5
}